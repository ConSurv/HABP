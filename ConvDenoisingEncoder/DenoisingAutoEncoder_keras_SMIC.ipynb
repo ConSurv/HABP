{
  "nbformat": 4,
  "nbformat_minor": 0,
  "metadata": {
    "colab": {
      "name": "DenoisingAutoEncoder_keras_SMIC.ipynb",
      "provenance": [],
      "collapsed_sections": [],
      "machine_shape": "hm",
      "include_colab_link": true
    },
    "kernelspec": {
      "name": "python3",
      "display_name": "Python 3"
    },
    "accelerator": "GPU"
  },
  "cells": [
    {
      "cell_type": "markdown",
      "metadata": {
        "id": "view-in-github",
        "colab_type": "text"
      },
      "source": [
        "<a href=\"https://colab.research.google.com/github/ConSurv/HABP/blob/master/ConvDenoisingEncoder/DenoisingAutoEncoder_keras_SMIC.ipynb\" target=\"_parent\"><img src=\"https://colab.research.google.com/assets/colab-badge.svg\" alt=\"Open In Colab\"/></a>"
      ]
    },
    {
      "cell_type": "code",
      "metadata": {
        "id": "H9ASNzmGCO8p",
        "colab_type": "code",
        "colab": {}
      },
      "source": [
        "from google.colab import drive\n",
        "drive.mount('/content/drive')"
      ],
      "execution_count": 0,
      "outputs": []
    },
    {
      "cell_type": "code",
      "metadata": {
        "id": "hHgU9Nz3cpsH",
        "colab_type": "code",
        "colab": {}
      },
      "source": [
        "# memory footprint support libraries/code\n",
        "!ln -sf /opt/bin/nvidia-smi /usr/bin/nvidia-smi\n",
        "!pip install gputil\n",
        "!pip install psutil\n",
        "!pip install humanize\n",
        "import psutil\n",
        "import humanize\n",
        "import os\n",
        "import GPUtil as GPU\n",
        "GPUs = GPU.getGPUs()\n",
        "print(GPUs)\n",
        "# XXX: only one GPU on Colab and isn’t guaranteed\n",
        "gpu = GPUs[0]\n",
        "def printm():\n",
        " process = psutil.Process(os.getpid())\n",
        " print(\"Gen RAM Free: \" + humanize.naturalsize( psutil.virtual_memory().available ), \" | Proc size: \" + humanize.naturalsize( process.memory_info().rss))\n",
        " print(\"GPU RAM Free: {0:.0f}MB | Used: {1:.0f}MB | Util {2:3.0f}% | Total {3:.0f}MB\".format(gpu.memoryFree, gpu.memoryUsed, gpu.memoryUtil*100, gpu.memoryTotal))\n",
        "printm()"
      ],
      "execution_count": 0,
      "outputs": []
    },
    {
      "cell_type": "code",
      "metadata": {
        "id": "qQbRxdtoNaPQ",
        "colab_type": "code",
        "colab": {}
      },
      "source": [
        "! pip install keras_layer_normalization"
      ],
      "execution_count": 0,
      "outputs": []
    },
    {
      "cell_type": "markdown",
      "metadata": {
        "id": "DtdUNIvWHA6i",
        "colab_type": "text"
      },
      "source": [
        "# **IMPORTING SMIC DATASETS**"
      ]
    },
    {
      "cell_type": "code",
      "metadata": {
        "id": "wlhFRnlIG5m_",
        "colab_type": "code",
        "colab": {}
      },
      "source": [
        "!wget -O SMIC_all_raw.7z http://www.ee.oulu.fi/~lxiaobai/SMIC_all_raw.7z"
      ],
      "execution_count": 0,
      "outputs": []
    },
    {
      "cell_type": "code",
      "metadata": {
        "id": "k_MCfATaG2YK",
        "colab_type": "code",
        "colab": {}
      },
      "source": [
        "!7z x SMIC_all_raw.7z -poulusmicallraw"
      ],
      "execution_count": 0,
      "outputs": []
    },
    {
      "cell_type": "code",
      "metadata": {
        "id": "QmiwzhxyMUFz",
        "colab_type": "code",
        "outputId": "51925eef-7e28-4b63-d47e-e1b5858d6ca3",
        "colab": {
          "base_uri": "https://localhost:8080/",
          "height": 34
        }
      },
      "source": [
        "import keras\n",
        "import cv2\n",
        "import numpy as np\n",
        "from keras.layers import Conv2DTranspose, ConvLSTM2D, BatchNormalization, TimeDistributed, Conv2D , MaxPooling2D,UpSampling2D\n",
        "from keras.models import Sequential, load_model\n",
        "from keras_layer_normalization import LayerNormalization\n",
        "from os import listdir\n",
        "from os.path import isfile, join, isdir\n",
        "from PIL import Image\n",
        "import numpy as np\n",
        "import shelve\n",
        "import matplotlib.pyplot as plt\n"
      ],
      "execution_count": 0,
      "outputs": [
        {
          "output_type": "stream",
          "text": [
            "Using TensorFlow backend.\n"
          ],
          "name": "stderr"
        }
      ]
    },
    {
      "cell_type": "code",
      "metadata": {
        "id": "gJgTwrx9NwKM",
        "colab_type": "code",
        "colab": {}
      },
      "source": [
        "class Config:\n",
        "    DATASET_PATH = \"/content/SMIC_all_raw/HS\".replace('\\\\', '/')\n",
        "    SINGLE_TEST_PATH = \"/content/SMIC_all_raw/NIR\".replace('\\\\', '/')\n",
        "    BATCH_SIZE = 6\n",
        "    EPOCHS = 10\n",
        "    MODEL_PATH = \"/content/drive/My Drive/FYP_MODEL/SMIC_model.hdf5\".replace('\\\\', '/')\n",
        "    noise_factor = 0.5\n"
      ],
      "execution_count": 0,
      "outputs": []
    },
    {
      "cell_type": "code",
      "metadata": {
        "id": "4VVm4hoZbBQt",
        "colab_type": "code",
        "colab": {}
      },
      "source": [
        "def get_clips_by_stride(stride, frames_list, sequence_size):\n",
        "    \"\"\" For data augmenting purposes.\n",
        "    Parameters\n",
        "    ----------\n",
        "    stride : int\n",
        "        The desired distance between two consecutive frames\n",
        "    frames_list : list\n",
        "        A list of sorted frames of shape 256 X 256\n",
        "    sequence_size: int\n",
        "        The size of the desired LSTM sequence\n",
        "    Returns\n",
        "    -------\n",
        "    list\n",
        "        A list of clips , 10 frames each\n",
        "    \"\"\"\n",
        "    clips = []\n",
        "    sz = len(frames_list)\n",
        "    clip = np.zeros(shape=(sequence_size, 256, 256, 1))\n",
        "    cnt = 0\n",
        "    for start in range(0, stride):\n",
        "        for i in range(start, sz, stride):\n",
        "            clip[cnt, :, :, 0] = frames_list[i]\n",
        "            cnt = cnt + 1\n",
        "            if cnt == sequence_size:\n",
        "                clips.append(clip)\n",
        "                cnt = 0\n",
        "    # print(len(clips))\n",
        "    # print(np.array(clips).shape)\n",
        "    return clips\n"
      ],
      "execution_count": 0,
      "outputs": []
    },
    {
      "cell_type": "code",
      "metadata": {
        "id": "pljuNEaQbHK4",
        "colab_type": "code",
        "colab": {}
      },
      "source": [
        "def get_training_set():\n",
        "    \"\"\"\n",
        "    Returns\n",
        "    -------\n",
        "    list\n",
        "        A list of training sequences of shape (NUMBER_OF_SEQUENCES,SINGLE_SEQUENCE_SIZE,FRAME_WIDTH,FRAME_HEIGHT,1)\n",
        "    \"\"\"\n",
        "    #####################################\n",
        "    # cache = shelve.open(Config.CACHE_PATH)\n",
        "    # return cache[\"datasetLSTM\"]\n",
        "    #####################################\n",
        "    clips = []\n",
        "    noise_clips = []\n",
        "    labels = []\n",
        "    # loop over the training folders (Train000,Train001,..)\n",
        "    for f in sorted(listdir(Config.DATASET_PATH)):\n",
        "        # print(f)\n",
        "        if isdir(join(Config.DATASET_PATH, f)):\n",
        "            path = join(Config.DATASET_PATH,f)\n",
        "            for c in sorted(listdir(path)):\n",
        "              if c == \"micro\":\n",
        "                path = join(path,c)\n",
        "                for category in sorted(listdir(path)):\n",
        "                  label = category\n",
        "                  path1 = join(path,category)\n",
        "                  for videoclip in sorted(listdir(path1)):\n",
        "                    videoPath = join(path1,videoclip)\n",
        "                    all_frames = []\n",
        "                    noise_all_frames = []\n",
        "                    # loop over all the images in the folder (0.tif,1.tif,..,199.tif)\n",
        "                    for frame in sorted(listdir(videoPath)):\n",
        "                      if str(join(videoPath,frame))[-3:] == \"bmp\":\n",
        "                        imagepath = join(videoPath,frame)\n",
        "                        image = cv2.imread(imagepath)\n",
        "                        imageresize = cv2.resize(image, (256, 256), interpolation = cv2.INTER_AREA)\n",
        "                        img = cv2.cvtColor(imageresize, cv2.COLOR_BGR2GRAY)\n",
        "                        img1 = np.array(img, dtype=np.float32)/256.0\n",
        "                        noise_img = img1 + Config.noise_factor + np.random.rand(256,256)\n",
        "                        all_frames.append(img1)\n",
        "                        noise_all_frames.append(noise_img) \n",
        "                \n",
        "                    # get the 10-frames sequences from the list of images after applying data augmentation\n",
        "                    for stride in range(1, 2):\n",
        "                      frames = get_clips_by_stride(stride=1, frames_list=all_frames, sequence_size=10)\n",
        "                      noise_frames = get_clips_by_stride(stride=1, frames_list=noise_all_frames, sequence_size=10)\n",
        "                      clips.extend(frames)\n",
        "                      noise_clips.extend(noise_frames) \n",
        "                    for i in range(0,len(frames)):\n",
        "                      labels.append(label)\n",
        "\n",
        "    return clips,noise_clips,labels\n"
      ],
      "execution_count": 0,
      "outputs": []
    },
    {
      "cell_type": "code",
      "metadata": {
        "id": "NxYh01tKN_BR",
        "colab_type": "code",
        "colab": {}
      },
      "source": [
        "def get_model(reload_model=True):\n",
        "    \"\"\"\n",
        "    Parameters\n",
        "    ----------\n",
        "    reload_model : bool\n",
        "        Load saved model or retrain it\n",
        "    \"\"\"\n",
        "    if not reload_model:\n",
        "        return load_model(Config.MODEL_PATH, custom_objects={'LayerNormalization': LayerNormalization})\n",
        "   \n",
        "    seq = Sequential()\n",
        "    print(\"Model initialized\")\n",
        "\n",
        "    #################Encoder###############\n",
        "    seq.add(\n",
        "        TimeDistributed(Conv2D(128, (11, 11), strides=4, padding=\"same\"), batch_input_shape=(None, 10, 256, 256, 1)))\n",
        "    seq.add(LayerNormalization())\n",
        "\n",
        "    seq.add(TimeDistributed(MaxPooling2D()))\n",
        "\n",
        "    seq.add(TimeDistributed(Conv2D(64, (5, 5), strides=2, padding=\"same\")))\n",
        "    seq.add(LayerNormalization())\n",
        "\n",
        "    seq.add(TimeDistributed(MaxPooling2D()))\n",
        "     \n",
        "    # # # # #\n",
        "    seq.add(ConvLSTM2D(32, (3, 3), padding=\"same\", return_sequences=True))\n",
        "    seq.add(LayerNormalization())\n",
        "    # Code\n",
        "    seq.add(ConvLSTM2D(16, (3, 3), padding=\"same\", return_sequences=True))\n",
        "    seq.add(LayerNormalization())\n",
        "    \n",
        "    seq.add(ConvLSTM2D(32, (3, 3), padding=\"same\", return_sequences=True))\n",
        "    seq.add(LayerNormalization())\n",
        "\n",
        "    ###########DECODER###############\n",
        "    seq.add(TimeDistributed(Conv2DTranspose(64, (5, 5), strides=2, padding=\"same\")))\n",
        "    seq.add(LayerNormalization())\n",
        "\n",
        "    seq.add(TimeDistributed(UpSampling2D()))\n",
        "\n",
        "    seq.add(TimeDistributed(Conv2DTranspose(64, (11, 11), strides=4, padding=\"same\")))\n",
        "    seq.add(LayerNormalization())\n",
        "\n",
        "    seq.add(TimeDistributed(UpSampling2D()))\n",
        "\n",
        "    seq.add(TimeDistributed(Conv2D(1, (11, 11), activation=\"sigmoid\", padding=\"same\")))\n",
        "    print(seq.summary())\n",
        "    seq.compile(loss='mse', optimizer=keras.optimizers.Adam(lr=1e-4, decay=1e-5, epsilon=1e-6))\n",
        "    \n",
        "    return seq\n"
      ],
      "execution_count": 0,
      "outputs": []
    },
    {
      "cell_type": "code",
      "metadata": {
        "id": "aCC_uzKybQeB",
        "colab_type": "code",
        "colab": {}
      },
      "source": [
        "import matplotlib.pyplot as plt \n",
        "from sklearn.model_selection import train_test_split\n",
        "def evaluate(train_set, noise_train_set, validation_set, noise_validation_set):\n",
        "    model = get_model(True)\n",
        "    print(\"got model\")\n",
        "\n",
        "    # fit the model\n",
        "    hist = model.fit(noise_train_set, train_set,\n",
        "            batch_size=Config.BATCH_SIZE, epochs=Config.EPOCHS, shuffle=False,\n",
        "            validation_data=(noise_validation_set, validation_set))\n",
        "    model.save(Config.MODEL_PATH)\n",
        "    return hist"
      ],
      "execution_count": 0,
      "outputs": []
    },
    {
      "cell_type": "code",
      "metadata": {
        "id": "GVD1FrwPXsiA",
        "colab_type": "code",
        "colab": {}
      },
      "source": [
        "# get training data\n",
        "print(\"Fetching dataset.........\")\n",
        "train_set, noise_train_set, labels = get_training_set()\n",
        "train_set = np.array(train_set)\n",
        "noise_train_set = np.array(noise_train_set)\n",
        "print(\"Completed Fetching!!!\")\n",
        "train_labels = np.zeros(len(labels))\n",
        "# print(labels)\n",
        "for i in range(len(labels)):\n",
        "  if labels[i]==\"positive\":\n",
        "    train_labels[i] = 0\n",
        "  elif labels[i]==\"negative\":\n",
        "    train_labels[i] = 1\n",
        "  else:\n",
        "    train_labels[i] = 2\n",
        "print(\"labels generated......\")\n",
        "\n",
        "# Save training images and labels in a numpy array\n",
        "np.save('/content/drive/My Drive/FYP_MODEL/numpy_training_datasets/SMIC_images.npy', train_set)\n",
        "np.save('/content/drive/My Drive/FYP_MODEL/numpy_training_datasets/SMIC_noise_images.npy', noise_train_set)\n",
        "np.save('/content/drive/My Drive/FYP_MODEL/numpy_training_datasets/SMIC_labels.npy', train_labels)"
      ],
      "execution_count": 0,
      "outputs": []
    },
    {
      "cell_type": "code",
      "metadata": {
        "id": "goNiaIu-vlFR",
        "colab_type": "code",
        "outputId": "46794b86-107f-4e58-85f5-d65d6759fba0",
        "colab": {
          "base_uri": "https://localhost:8080/",
          "height": 370
        }
      },
      "source": [
        "import numpy as np\n",
        "# Load training images and labels that are stored in numpy array\n",
        "train_set = np.load('/content/drive/My Drive/FYP_MODEL/numpy_training_datasets/SMIC_images.npy')\n",
        "noise_train_set = np.load('/content/drive/My Drive/FYP_MODEL/numpy_training_datasets/SMIC_noise_images.npy')\n",
        "train_labels =np.load('/content/drive/My Drive/FYP_MODEL/numpy_training_datasets/SMIC_labels.npy')\n",
        "\n",
        "print(train_set.shape)\n",
        "print(noise_train_set.shape)\n",
        "print(train_labels.shape)"
      ],
      "execution_count": 0,
      "outputs": [
        {
          "output_type": "error",
          "ename": "FileNotFoundError",
          "evalue": "ignored",
          "traceback": [
            "\u001b[0;31m---------------------------------------------------------------------------\u001b[0m",
            "\u001b[0;31mFileNotFoundError\u001b[0m                         Traceback (most recent call last)",
            "\u001b[0;32m<ipython-input-1-88cfea64056b>\u001b[0m in \u001b[0;36m<module>\u001b[0;34m()\u001b[0m\n\u001b[1;32m      1\u001b[0m \u001b[0;32mimport\u001b[0m \u001b[0mnumpy\u001b[0m \u001b[0;32mas\u001b[0m \u001b[0mnp\u001b[0m\u001b[0;34m\u001b[0m\u001b[0;34m\u001b[0m\u001b[0m\n\u001b[1;32m      2\u001b[0m \u001b[0;31m# Load training images and labels that are stored in numpy array\u001b[0m\u001b[0;34m\u001b[0m\u001b[0;34m\u001b[0m\u001b[0;34m\u001b[0m\u001b[0m\n\u001b[0;32m----> 3\u001b[0;31m \u001b[0mtrain_set\u001b[0m \u001b[0;34m=\u001b[0m \u001b[0mnp\u001b[0m\u001b[0;34m.\u001b[0m\u001b[0mload\u001b[0m\u001b[0;34m(\u001b[0m\u001b[0;34m'/content/drive/My Drive/FYP_MODEL/numpy_training_datasets/SMIC_images.npy'\u001b[0m\u001b[0;34m)\u001b[0m\u001b[0;34m\u001b[0m\u001b[0;34m\u001b[0m\u001b[0m\n\u001b[0m\u001b[1;32m      4\u001b[0m \u001b[0mnoise_train_set\u001b[0m \u001b[0;34m=\u001b[0m \u001b[0mnp\u001b[0m\u001b[0;34m.\u001b[0m\u001b[0mload\u001b[0m\u001b[0;34m(\u001b[0m\u001b[0;34m'/content/drive/My Drive/FYP_MODEL/numpy_training_datasets/SMIC_noise_images.npy'\u001b[0m\u001b[0;34m)\u001b[0m\u001b[0;34m\u001b[0m\u001b[0;34m\u001b[0m\u001b[0m\n\u001b[1;32m      5\u001b[0m \u001b[0mtrain_labels\u001b[0m \u001b[0;34m=\u001b[0m\u001b[0mnp\u001b[0m\u001b[0;34m.\u001b[0m\u001b[0mload\u001b[0m\u001b[0;34m(\u001b[0m\u001b[0;34m'/content/drive/My Drive/FYP_MODEL/numpy_training_datasets/SMIC_labels.npy'\u001b[0m\u001b[0;34m)\u001b[0m\u001b[0;34m\u001b[0m\u001b[0;34m\u001b[0m\u001b[0m\n",
            "\u001b[0;32m/usr/local/lib/python3.6/dist-packages/numpy/lib/npyio.py\u001b[0m in \u001b[0;36mload\u001b[0;34m(file, mmap_mode, allow_pickle, fix_imports, encoding)\u001b[0m\n\u001b[1;32m    426\u001b[0m         \u001b[0mown_fid\u001b[0m \u001b[0;34m=\u001b[0m \u001b[0;32mFalse\u001b[0m\u001b[0;34m\u001b[0m\u001b[0;34m\u001b[0m\u001b[0m\n\u001b[1;32m    427\u001b[0m     \u001b[0;32melse\u001b[0m\u001b[0;34m:\u001b[0m\u001b[0;34m\u001b[0m\u001b[0;34m\u001b[0m\u001b[0m\n\u001b[0;32m--> 428\u001b[0;31m         \u001b[0mfid\u001b[0m \u001b[0;34m=\u001b[0m \u001b[0mopen\u001b[0m\u001b[0;34m(\u001b[0m\u001b[0mos_fspath\u001b[0m\u001b[0;34m(\u001b[0m\u001b[0mfile\u001b[0m\u001b[0;34m)\u001b[0m\u001b[0;34m,\u001b[0m \u001b[0;34m\"rb\"\u001b[0m\u001b[0;34m)\u001b[0m\u001b[0;34m\u001b[0m\u001b[0;34m\u001b[0m\u001b[0m\n\u001b[0m\u001b[1;32m    429\u001b[0m         \u001b[0mown_fid\u001b[0m \u001b[0;34m=\u001b[0m \u001b[0;32mTrue\u001b[0m\u001b[0;34m\u001b[0m\u001b[0;34m\u001b[0m\u001b[0m\n\u001b[1;32m    430\u001b[0m \u001b[0;34m\u001b[0m\u001b[0m\n",
            "\u001b[0;31mFileNotFoundError\u001b[0m: [Errno 2] No such file or directory: '/content/drive/My Drive/FYP_MODEL/numpy_training_datasets/SMIC_images.npy'"
          ]
        }
      ]
    },
    {
      "cell_type": "code",
      "metadata": {
        "id": "NQIb7ZTyAMq_",
        "colab_type": "code",
        "colab": {}
      },
      "source": [
        "from sklearn.model_selection import train_test_split\n",
        "# spliting testing dataset\n",
        "train_set, test_set, noise_train_set, noise_test_set, train_labels, test_labels =  train_test_split(train_set, noise_train_set, train_labels, test_size=0.1, random_state=4)\n",
        "train_set, validation_set, noise_train_set, noise_validation_set, train_labels, validation_labels =  train_test_split(train_set, noise_train_set, train_labels, test_size=0.1, random_state=4)\n"
      ],
      "execution_count": 0,
      "outputs": []
    },
    {
      "cell_type": "code",
      "metadata": {
        "id": "279p3J5DGepj",
        "colab_type": "code",
        "colab": {}
      },
      "source": [
        "hist= evaluate(train_set, noise_train_set, validation_set, noise_validation_set)"
      ],
      "execution_count": 0,
      "outputs": []
    },
    {
      "cell_type": "code",
      "metadata": {
        "id": "RbwdyYwpsxa2",
        "colab_type": "code",
        "outputId": "14002926-b422-4a11-b793-e67c84880ad1",
        "colab": {
          "base_uri": "https://localhost:8080/",
          "height": 279
        }
      },
      "source": [
        "import matplotlib.pyplot as plt\n",
        "\n",
        "loss_values = hist.history['loss']\n",
        "loss_val = hist.history['val_loss']\n",
        "epochs = range(1, len(loss_values)+1)\n",
        "\n",
        "plt.plot(epochs, loss_values, label='Training Loss')\n",
        "plt.plot(epochs, loss_val, label='Validation Loss')\n",
        "plt.xlabel('Epochs')\n",
        "plt.ylabel('Loss')\n",
        "plt.legend()\n",
        "plt.show()"
      ],
      "execution_count": 0,
      "outputs": [
        {
          "output_type": "display_data",
          "data": {
            "image/png": "[encoded data removed]",
            "text/plain": [
              "<Figure size 432x288 with 1 Axes>"
            ]
          },
          "metadata": {
            "tags": [],
            "needs_background": "light"
          }
        }
      ]
    },
    {
      "cell_type": "code",
      "metadata": {
        "id": "u3gn5eHoXIFh",
        "colab_type": "code",
        "colab": {}
      },
      "source": [
        "# modify model upto code layer\n",
        "model = get_model(False)\n",
        "modules = model.layers[:-9]\n",
        "new_model = Sequential(modules)\n",
        "\n",
        "# extract code features\n",
        "train_features = new_model.predict(train_set, batch_size = 4)\n",
        "test_features = new_model.predict(test_set, batch_size = 4)\n",
        "validation_features = new_model.predict(validation_set, batch_size = 4)\n",
        "\n",
        "print(train_features.shape)\n",
        "print(test_features.shape)\n",
        "print(train_labels.shape)\n",
        "print(test_labels.shape)\n",
        "print(validation_features.shape)\n",
        "print(validation_labels.shape)"
      ],
      "execution_count": 0,
      "outputs": []
    },
    {
      "cell_type": "code",
      "metadata": {
        "id": "nvI4Rqm-YlUc",
        "colab_type": "code",
        "outputId": "9f802239-1598-4db9-ed90-f70a0fdac236",
        "colab": {
          "base_uri": "https://localhost:8080/",
          "height": 51
        }
      },
      "source": [
        "train_features = train_features.reshape(394,10*8*8*16)\n",
        "test_features = test_features.reshape(49,10*8*8*16)\n",
        "validation_features = validation_features.reshape(44,10*8*8*16)\n",
        "\n",
        "\n",
        "print(train_features.shape)\n",
        "print(test_features.shape)\n",
        "\n",
        "np.save('/content/drive/My Drive/FYP_MODEL/numpy_training_datasets/SMIC/train_features.npy', train_features)\n",
        "np.save('/content/drive/My Drive/FYP_MODEL/numpy_training_datasets/SMIC/test_features.npy', test_features)\n",
        "np.save('/content/drive/My Drive/FYP_MODEL/numpy_training_datasets/SMIC/validation_features.npy', validation_features)\n",
        "\n",
        "np.save('/content/drive/My Drive/FYP_MODEL/numpy_training_datasets/SMIC/train_labels.npy', train_labels)\n",
        "np.save('/content/drive/My Drive/FYP_MODEL/numpy_training_datasets/SMIC/test_labels.npy', test_labels)\n",
        "np.save('/content/drive/My Drive/FYP_MODEL/numpy_training_datasets/SMIC/validation_labels.npy', validation_labels)"
      ],
      "execution_count": 0,
      "outputs": [
        {
          "output_type": "stream",
          "text": [
            "(394, 10240)\n",
            "(49, 10240)\n"
          ],
          "name": "stdout"
        }
      ]
    }
  ]
}