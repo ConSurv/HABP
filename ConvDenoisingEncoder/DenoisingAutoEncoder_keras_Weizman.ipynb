{
  "nbformat": 4,
  "nbformat_minor": 0,
  "metadata": {
    "colab": {
      "name": "DenoisingAutoEncoder_keras_Weizman.ipynb",
      "provenance": [],
      "collapsed_sections": [],
      "machine_shape": "hm",
      "include_colab_link": true
    },
    "kernelspec": {
      "name": "python3",
      "display_name": "Python 3"
    },
    "accelerator": "GPU"
  },
  "cells": [
    {
      "cell_type": "markdown",
      "metadata": {
        "id": "view-in-github",
        "colab_type": "text"
      },
      "source": [
        "<a href=\"https://colab.research.google.com/github/ConSurv/HABP/blob/master/ConvDenoisingEncoder/DenoisingAutoEncoder_keras_Weizman.ipynb\" target=\"_parent\"><img src=\"https://colab.research.google.com/assets/colab-badge.svg\" alt=\"Open In Colab\"/></a>"
      ]
    },
    {
      "cell_type": "code",
      "metadata": {
        "id": "H9ASNzmGCO8p",
        "colab_type": "code",
        "outputId": "7235fac7-f084-4321-c7ba-69262277db8d",
        "colab": {
          "base_uri": "https://localhost:8080/",
          "height": 120
        }
      },
      "source": [
        "from google.colab import drive\n",
        "drive.mount('/content/drive')"
      ],
      "execution_count": 0,
      "outputs": [
        {
          "output_type": "stream",
          "text": [
            "Go to this URL in a browser: https://accounts.google.com/o/oauth2/auth?client_id=947318989803-6bn6qk8qdgf4n4g3pfee6491hc0brc4i.apps.googleusercontent.com&redirect_uri=urn%3aietf%3awg%3aoauth%3a2.0%3aoob&response_type=code&scope=email%20https%3a%2f%2fwww.googleapis.com%2fauth%2fdocs.test%20https%3a%2f%2fwww.googleapis.com%2fauth%2fdrive%20https%3a%2f%2fwww.googleapis.com%2fauth%2fdrive.photos.readonly%20https%3a%2f%2fwww.googleapis.com%2fauth%2fpeopleapi.readonly\n",
            "\n",
            "Enter your authorization code:\n",
            "··········\n",
            "Mounted at /content/drive\n"
          ],
          "name": "stdout"
        }
      ]
    },
    {
      "cell_type": "code",
      "metadata": {
        "id": "hHgU9Nz3cpsH",
        "colab_type": "code",
        "outputId": "ad885b75-cd7f-4d0f-e2ff-cb6fc0c17f15",
        "colab": {
          "base_uri": "https://localhost:8080/",
          "height": 271
        }
      },
      "source": [
        "# memory footprint support libraries/code\n",
        "!ln -sf /opt/bin/nvidia-smi /usr/bin/nvidia-smi\n",
        "!pip install gputil\n",
        "!pip install psutil\n",
        "!pip install humanize\n",
        "import psutil\n",
        "import humanize\n",
        "import os\n",
        "import GPUtil as GPU\n",
        "GPUs = GPU.getGPUs()\n",
        "print(GPUs)\n",
        "# XXX: only one GPU on Colab and isn’t guaranteed\n",
        "gpu = GPUs[0]\n",
        "def printm():\n",
        " process = psutil.Process(os.getpid())\n",
        " print(\"Gen RAM Free: \" + humanize.naturalsize( psutil.virtual_memory().available ), \" | Proc size: \" + humanize.naturalsize( process.memory_info().rss))\n",
        " print(\"GPU RAM Free: {0:.0f}MB | Used: {1:.0f}MB | Util {2:3.0f}% | Total {3:.0f}MB\".format(gpu.memoryFree, gpu.memoryUsed, gpu.memoryUtil*100, gpu.memoryTotal))\n",
        "printm()"
      ],
      "execution_count": 0,
      "outputs": [
        {
          "output_type": "stream",
          "text": [
            "Collecting gputil\n",
            "  Downloading https://files.pythonhosted.org/packages/ed/0e/5c61eedde9f6c87713e89d794f01e378cfd9565847d4576fa627d758c554/GPUtil-1.4.0.tar.gz\n",
            "Building wheels for collected packages: gputil\n",
            "  Building wheel for gputil (setup.py) ... \u001b[?25l\u001b[?25hdone\n",
            "  Created wheel for gputil: filename=GPUtil-1.4.0-cp36-none-any.whl size=7413 sha256=59d6111123e5fb8f45e482cb113043c00f3f8683bb038fea496c3589ed6a5c51\n",
            "  Stored in directory: /root/.cache/pip/wheels/3d/77/07/80562de4bb0786e5ea186911a2c831fdd0018bda69beab71fd\n",
            "Successfully built gputil\n",
            "Installing collected packages: gputil\n",
            "Successfully installed gputil-1.4.0\n",
            "Requirement already satisfied: psutil in /usr/local/lib/python3.6/dist-packages (5.4.8)\n",
            "Requirement already satisfied: humanize in /usr/local/lib/python3.6/dist-packages (0.5.1)\n",
            "[<GPUtil.GPUtil.GPU object at 0x7f716e45a710>]\n",
            "Gen RAM Free: 26.3 GB  | Proc size: 158.5 MB\n",
            "GPU RAM Free: 16280MB | Used: 0MB | Util   0% | Total 16280MB\n"
          ],
          "name": "stdout"
        }
      ]
    },
    {
      "cell_type": "code",
      "metadata": {
        "id": "qQbRxdtoNaPQ",
        "colab_type": "code",
        "outputId": "e6385d5c-ba7a-4ff0-d54e-f09edd546500",
        "colab": {
          "base_uri": "https://localhost:8080/",
          "height": 321
        }
      },
      "source": [
        "! pip install keras_layer_normalization"
      ],
      "execution_count": 0,
      "outputs": [
        {
          "output_type": "stream",
          "text": [
            "Collecting keras_layer_normalization\n",
            "  Downloading https://files.pythonhosted.org/packages/a4/0e/d1078df0494bac9ce1a67954e5380b6e7569668f0f3b50a9531c62c1fc4a/keras-layer-normalization-0.14.0.tar.gz\n",
            "Requirement already satisfied: numpy in /usr/local/lib/python3.6/dist-packages (from keras_layer_normalization) (1.18.3)\n",
            "Requirement already satisfied: Keras in /usr/local/lib/python3.6/dist-packages (from keras_layer_normalization) (2.3.1)\n",
            "Requirement already satisfied: pyyaml in /usr/local/lib/python3.6/dist-packages (from Keras->keras_layer_normalization) (3.13)\n",
            "Requirement already satisfied: keras-applications>=1.0.6 in /usr/local/lib/python3.6/dist-packages (from Keras->keras_layer_normalization) (1.0.8)\n",
            "Requirement already satisfied: h5py in /usr/local/lib/python3.6/dist-packages (from Keras->keras_layer_normalization) (2.10.0)\n",
            "Requirement already satisfied: keras-preprocessing>=1.0.5 in /usr/local/lib/python3.6/dist-packages (from Keras->keras_layer_normalization) (1.1.0)\n",
            "Requirement already satisfied: scipy>=0.14 in /usr/local/lib/python3.6/dist-packages (from Keras->keras_layer_normalization) (1.4.1)\n",
            "Requirement already satisfied: six>=1.9.0 in /usr/local/lib/python3.6/dist-packages (from Keras->keras_layer_normalization) (1.12.0)\n",
            "Building wheels for collected packages: keras-layer-normalization\n",
            "  Building wheel for keras-layer-normalization (setup.py) ... \u001b[?25l\u001b[?25hdone\n",
            "  Created wheel for keras-layer-normalization: filename=keras_layer_normalization-0.14.0-cp36-none-any.whl size=5268 sha256=cc7e437536e881f9ffc490f9a099b959f9a695d406a9209840aae77e3e9ba51c\n",
            "  Stored in directory: /root/.cache/pip/wheels/54/80/22/a638a7d406fd155e507aa33d703e3fa2612b9eb7bb4f4fe667\n",
            "Successfully built keras-layer-normalization\n",
            "Installing collected packages: keras-layer-normalization\n",
            "Successfully installed keras-layer-normalization-0.14.0\n"
          ],
          "name": "stdout"
        }
      ]
    },
    {
      "cell_type": "code",
      "metadata": {
        "id": "QmiwzhxyMUFz",
        "colab_type": "code",
        "outputId": "b74ed29b-794f-458c-d6e1-fcf351b4f9fb",
        "colab": {
          "base_uri": "https://localhost:8080/",
          "height": 33
        }
      },
      "source": [
        "import keras\n",
        "import cv2\n",
        "import numpy as np\n",
        "from keras.layers import Conv2DTranspose, ConvLSTM2D, BatchNormalization, TimeDistributed, Conv2D , MaxPooling2D,UpSampling2D\n",
        "from keras.models import Sequential, load_model\n",
        "from keras_layer_normalization import LayerNormalization\n",
        "from os import listdir\n",
        "from os.path import isfile, join, isdir\n",
        "from PIL import Image\n",
        "import numpy as np\n",
        "import shelve\n",
        "import matplotlib.pyplot as plt\n"
      ],
      "execution_count": 0,
      "outputs": [
        {
          "output_type": "stream",
          "text": [
            "Using TensorFlow backend.\n"
          ],
          "name": "stderr"
        }
      ]
    },
    {
      "cell_type": "code",
      "metadata": {
        "id": "gJgTwrx9NwKM",
        "colab_type": "code",
        "colab": {}
      },
      "source": [
        "class Config:\n",
        "    DATASET_PATH = \"/content/drive/My Drive/FYP_MODEL/behavior_data\".replace('\\\\', '/')\n",
        "    BATCH_SIZE = 6\n",
        "    EPOCHS = 10\n",
        "    MODEL_PATH = \"/content/drive/My Drive/FYP_MODEL/models/behav_model.hdf5\".replace('\\\\', '/')\n",
        "    noise_factor = 0.5\n"
      ],
      "execution_count": 0,
      "outputs": []
    },
    {
      "cell_type": "code",
      "metadata": {
        "id": "4VVm4hoZbBQt",
        "colab_type": "code",
        "colab": {}
      },
      "source": [
        "def get_clips_by_stride(stride, frames_list, sequence_size):\n",
        "    \"\"\" For data augmenting purposes.\n",
        "    Parameters\n",
        "    ----------\n",
        "    stride : int\n",
        "        The desired distance between two consecutive frames\n",
        "    frames_list : list\n",
        "        A list of sorted frames of shape 256 X 256\n",
        "    sequence_size: int\n",
        "        The size of the desired LSTM sequence\n",
        "    Returns\n",
        "    -------\n",
        "    list\n",
        "        A list of clips , 10 frames each\n",
        "    \"\"\"\n",
        "    clips = []\n",
        "    sz = len(frames_list)\n",
        "    clip = np.zeros(shape=(sequence_size, 256, 256, 1))\n",
        "    cnt = 0\n",
        "    for start in range(0, stride):\n",
        "        for i in range(start, sz, stride):\n",
        "            clip[cnt, :, :, 0] = frames_list[i]\n",
        "            cnt = cnt + 1\n",
        "            if cnt == sequence_size:\n",
        "                clips.append(clip)\n",
        "                cnt = 0\n",
        "    # print(len(clips))\n",
        "    # print(np.array(clips).shape)\n",
        "    return clips\n"
      ],
      "execution_count": 0,
      "outputs": []
    },
    {
      "cell_type": "code",
      "metadata": {
        "id": "pljuNEaQbHK4",
        "colab_type": "code",
        "colab": {}
      },
      "source": [
        "def get_training_set():\n",
        "    \"\"\"\n",
        "    Returns\n",
        "    -------\n",
        "    list\n",
        "        A list of training sequences of shape (NUMBER_OF_SEQUENCES,SINGLE_SEQUENCE_SIZE,FRAME_WIDTH,FRAME_HEIGHT,1)\n",
        "    \"\"\"\n",
        "    #####################################\n",
        "    # cache = shelve.open(Config.CACHE_PATH)\n",
        "    # return cache[\"datasetLSTM\"]\n",
        "    #####################################\n",
        "    clips = []\n",
        "    noise_clips = []\n",
        "    labels = []\n",
        "    # loop over the training folders (bend,jack....)\n",
        "    for category in sorted(listdir(Config.DATASET_PATH)):\n",
        "      # (/bend)\n",
        "      if isdir(join(Config.DATASET_PATH, category)):\n",
        "        label = category\n",
        "        path = join(Config.DATASET_PATH,category)\n",
        "        for subcat in sorted(listdir(path)):\n",
        "            # sub-category= (daria_bend,denis_bend....)\n",
        "            path1 = join(path,subcat)\n",
        "            all_frames = []\n",
        "            noise_all_frames = []\n",
        "            for frame in sorted(listdir(path1)):\n",
        "              if str(join(path1,frame))[-3:] == \"jpg\":\n",
        "                imagepath = join(path1,frame)\n",
        "                image = cv2.imread(imagepath)\n",
        "                imageresize = cv2.resize(image, (256, 256), interpolation = cv2.INTER_AREA)\n",
        "                img = cv2.cvtColor(imageresize, cv2.COLOR_BGR2GRAY)\n",
        "                img1 = np.array(img, dtype=np.float32)/256.0\n",
        "                noise_img = img1 + Config.noise_factor + np.random.rand(256,256)\n",
        "                all_frames.append(img1)\n",
        "                noise_all_frames.append(noise_img) \n",
        "                \n",
        "            # get the 10-frames sequences from the list of images after applying data augmentation\n",
        "            for stride in range(1, 2):\n",
        "              frames = get_clips_by_stride(stride=1, frames_list=all_frames, sequence_size=15)\n",
        "              noise_frames = get_clips_by_stride(stride=1, frames_list=noise_all_frames, sequence_size=15)\n",
        "              clips.extend(frames)\n",
        "              noise_clips.extend(noise_frames) \n",
        "              for i in range(0,len(frames)):\n",
        "                labels.append(label)\n",
        "\n",
        "    return clips,noise_clips,labels\n"
      ],
      "execution_count": 0,
      "outputs": []
    },
    {
      "cell_type": "code",
      "metadata": {
        "id": "NxYh01tKN_BR",
        "colab_type": "code",
        "colab": {}
      },
      "source": [
        "def get_model(reload_model=True):\n",
        "    \"\"\"\n",
        "    Parameters\n",
        "    ----------\n",
        "    reload_model : bool\n",
        "        Load saved model or retrain it\n",
        "    \"\"\"\n",
        "    if not reload_model:\n",
        "        return load_model(Config.MODEL_PATH, custom_objects={'LayerNormalization': LayerNormalization})\n",
        "   \n",
        "    seq = Sequential()\n",
        "    print(\"Model initialized\")\n",
        "\n",
        "    #################Encoder###############\n",
        "    seq.add(\n",
        "        TimeDistributed(Conv2D(128, (11, 11), strides=4, padding=\"same\"), batch_input_shape=(None, 15, 256, 256, 1)))\n",
        "    seq.add(LayerNormalization())\n",
        "\n",
        "    seq.add(TimeDistributed(MaxPooling2D()))\n",
        "\n",
        "    seq.add(TimeDistributed(Conv2D(64, (5, 5), strides=2, padding=\"same\")))\n",
        "    seq.add(LayerNormalization())\n",
        "\n",
        "    seq.add(TimeDistributed(MaxPooling2D()))\n",
        "     \n",
        "    # # # # #\n",
        "    seq.add(ConvLSTM2D(32, (3, 3), padding=\"same\", return_sequences=True))\n",
        "    seq.add(LayerNormalization())\n",
        "    # Code\n",
        "    seq.add(ConvLSTM2D(16, (3, 3), padding=\"same\", return_sequences=True))\n",
        "    seq.add(LayerNormalization())\n",
        "    \n",
        "    seq.add(ConvLSTM2D(32, (3, 3), padding=\"same\", return_sequences=True))\n",
        "    seq.add(LayerNormalization())\n",
        "\n",
        "    ###########DECODER###############\n",
        "    seq.add(TimeDistributed(Conv2DTranspose(64, (5, 5), strides=2, padding=\"same\")))\n",
        "    seq.add(LayerNormalization())\n",
        "\n",
        "    seq.add(TimeDistributed(UpSampling2D()))\n",
        "\n",
        "    seq.add(TimeDistributed(Conv2DTranspose(64, (11, 11), strides=4, padding=\"same\")))\n",
        "    seq.add(LayerNormalization())\n",
        "\n",
        "    seq.add(TimeDistributed(UpSampling2D()))\n",
        "\n",
        "    seq.add(TimeDistributed(Conv2D(1, (11, 11), activation=\"sigmoid\", padding=\"same\")))\n",
        "    print(seq.summary())\n",
        "    seq.compile(loss='mse', optimizer=keras.optimizers.Adam(lr=1e-4, decay=1e-5, epsilon=1e-6))\n",
        "    \n",
        "    return seq\n"
      ],
      "execution_count": 0,
      "outputs": []
    },
    {
      "cell_type": "code",
      "metadata": {
        "id": "aCC_uzKybQeB",
        "colab_type": "code",
        "colab": {}
      },
      "source": [
        "import matplotlib.pyplot as plt \n",
        "from sklearn.model_selection import train_test_split\n",
        "def evaluate(train_set, noise_train_set, validation_set, noise_validation_set):\n",
        "    model = get_model(True)\n",
        "    print(\"got model\")\n",
        "\n",
        "    # fit the model\n",
        "    hist = model.fit(noise_train_set, train_set,\n",
        "            batch_size=Config.BATCH_SIZE, epochs=Config.EPOCHS, shuffle=False,\n",
        "            validation_data=(noise_validation_set, validation_set))\n",
        "    model.save(Config.MODEL_PATH)\n",
        "    return hist"
      ],
      "execution_count": 0,
      "outputs": []
    },
    {
      "cell_type": "code",
      "metadata": {
        "id": "GVD1FrwPXsiA",
        "colab_type": "code",
        "outputId": "d0567084-04c1-4629-d077-5b5cb7b02581",
        "colab": {
          "base_uri": "https://localhost:8080/",
          "height": 67
        }
      },
      "source": [
        "# get training data\n",
        "print(\"Fetching dataset.........\")\n",
        "train_set, noise_train_set, labels = get_training_set()\n",
        "train_set = np.array(train_set)\n",
        "noise_train_set = np.array(noise_train_set)\n",
        "print(\"Completed Fetching!!!\")\n",
        "train_labels = np.zeros(len(labels))\n",
        "# print(labels)\n",
        "for i in range(len(labels)):\n",
        "  if labels[i]==\"bend\":\n",
        "    train_labels[i] = 0\n",
        "  elif labels[i]==\"jack\":\n",
        "    train_labels[i] = 1\n",
        "  elif labels[i]==\"jump\":\n",
        "    train_labels[i] = 2\n",
        "  elif labels[i]==\"pjump\":\n",
        "    train_labels[i] = 3\n",
        "  elif labels[i]==\"run\":\n",
        "    train_labels[i] = 4\n",
        "  elif labels[i]==\"side\":\n",
        "    train_labels[i] = 5\n",
        "  elif labels[i]==\"walk\":\n",
        "    train_labels[i] = 6\n",
        "  elif labels[i]==\"wave1\":\n",
        "    train_labels[i] = 7\n",
        "  elif labels[i]==\"wave2\":\n",
        "    train_labels[i] = 8\n",
        "  else:\n",
        "    train_labels[i] = 9\n",
        "print(\"labels generated......\")\n",
        "\n",
        "# Save training images and labels in a numpy array\n",
        "np.save('/content/drive/My Drive/FYP_MODEL/numpy_training_datasets/behavior/Behav_images.npy', train_set)\n",
        "np.save('/content/drive/My Drive/FYP_MODEL/numpy_training_datasets/behavior/Behav_noise_images.npy', noise_train_set)\n",
        "np.save('/content/drive/My Drive/FYP_MODEL/numpy_training_datasets/behavior/Behav_labels.npy', train_labels)"
      ],
      "execution_count": 0,
      "outputs": [
        {
          "output_type": "stream",
          "text": [
            "Fetching dataset.........\n",
            "Completed Fetching!!!\n",
            "labels generated......\n"
          ],
          "name": "stdout"
        }
      ]
    },
    {
      "cell_type": "code",
      "metadata": {
        "id": "-GiHwZUyqrgy",
        "colab_type": "code",
        "outputId": "5f019f31-a619-4f44-8b8f-f618a92f6040",
        "colab": {
          "base_uri": "https://localhost:8080/",
          "height": 50
        }
      },
      "source": [
        "print(noise_train_set.shape)\n",
        "print(train_labels.shape)"
      ],
      "execution_count": 0,
      "outputs": [
        {
          "output_type": "stream",
          "text": [
            "(297, 15, 256, 256, 1)\n",
            "(297,)\n"
          ],
          "name": "stdout"
        }
      ]
    },
    {
      "cell_type": "code",
      "metadata": {
        "id": "goNiaIu-vlFR",
        "colab_type": "code",
        "outputId": "840e964a-b1de-4484-e7f4-f455841588b0",
        "colab": {
          "base_uri": "https://localhost:8080/",
          "height": 365
        }
      },
      "source": [
        "import numpy as np\n",
        "# Load training images and labels that are stored in numpy array\n",
        "train_set = np.load('/content/drive/My Drive/FYP_MODEL/numpy_training_datasets/behavior/Behav_images.npy')\n",
        "noise_train_set = np.load('/content/drive/My Drive/FYP_MODEL/numpy_training_datasets/behavior/Behav_noise_images.npy')\n",
        "train_labels =np.load('/content/drive/My Drive/FYP_MODEL/numpy_training_datasets/behavior/Behav_labels.npy')\n",
        "\n",
        "print(train_set.shape)\n",
        "print(noise_train_set.shape)\n",
        "print(train_labels.shape)"
      ],
      "execution_count": 0,
      "outputs": [
        {
          "output_type": "error",
          "ename": "FileNotFoundError",
          "evalue": "ignored",
          "traceback": [
            "\u001b[0;31m---------------------------------------------------------------------------\u001b[0m",
            "\u001b[0;31mFileNotFoundError\u001b[0m                         Traceback (most recent call last)",
            "\u001b[0;32m<ipython-input-10-7d58437fc33b>\u001b[0m in \u001b[0;36m<module>\u001b[0;34m()\u001b[0m\n\u001b[1;32m      1\u001b[0m \u001b[0;32mimport\u001b[0m \u001b[0mnumpy\u001b[0m \u001b[0;32mas\u001b[0m \u001b[0mnp\u001b[0m\u001b[0;34m\u001b[0m\u001b[0;34m\u001b[0m\u001b[0m\n\u001b[1;32m      2\u001b[0m \u001b[0;31m# Load training images and labels that are stored in numpy array\u001b[0m\u001b[0;34m\u001b[0m\u001b[0;34m\u001b[0m\u001b[0;34m\u001b[0m\u001b[0m\n\u001b[0;32m----> 3\u001b[0;31m \u001b[0mtrain_set\u001b[0m \u001b[0;34m=\u001b[0m \u001b[0mnp\u001b[0m\u001b[0;34m.\u001b[0m\u001b[0mload\u001b[0m\u001b[0;34m(\u001b[0m\u001b[0;34m'/content/drive/My Drive/FYP_MODEL/numpy_training_datasets/behavior/Behav_images.npy'\u001b[0m\u001b[0;34m)\u001b[0m\u001b[0;34m\u001b[0m\u001b[0;34m\u001b[0m\u001b[0m\n\u001b[0m\u001b[1;32m      4\u001b[0m \u001b[0mnoise_train_set\u001b[0m \u001b[0;34m=\u001b[0m \u001b[0mnp\u001b[0m\u001b[0;34m.\u001b[0m\u001b[0mload\u001b[0m\u001b[0;34m(\u001b[0m\u001b[0;34m'/content/drive/My Drive/FYP_MODEL/numpy_training_datasets/behavior/Behav_noise_images.npy'\u001b[0m\u001b[0;34m)\u001b[0m\u001b[0;34m\u001b[0m\u001b[0;34m\u001b[0m\u001b[0m\n\u001b[1;32m      5\u001b[0m \u001b[0mtrain_labels\u001b[0m \u001b[0;34m=\u001b[0m\u001b[0mnp\u001b[0m\u001b[0;34m.\u001b[0m\u001b[0mload\u001b[0m\u001b[0;34m(\u001b[0m\u001b[0;34m'/content/drive/My Drive/FYP_MODEL/numpy_training_datasets/behavior/Behav_labels.npy'\u001b[0m\u001b[0;34m)\u001b[0m\u001b[0;34m\u001b[0m\u001b[0;34m\u001b[0m\u001b[0m\n",
            "\u001b[0;32m/usr/local/lib/python3.6/dist-packages/numpy/lib/npyio.py\u001b[0m in \u001b[0;36mload\u001b[0;34m(file, mmap_mode, allow_pickle, fix_imports, encoding)\u001b[0m\n\u001b[1;32m    426\u001b[0m         \u001b[0mown_fid\u001b[0m \u001b[0;34m=\u001b[0m \u001b[0;32mFalse\u001b[0m\u001b[0;34m\u001b[0m\u001b[0;34m\u001b[0m\u001b[0m\n\u001b[1;32m    427\u001b[0m     \u001b[0;32melse\u001b[0m\u001b[0;34m:\u001b[0m\u001b[0;34m\u001b[0m\u001b[0;34m\u001b[0m\u001b[0m\n\u001b[0;32m--> 428\u001b[0;31m         \u001b[0mfid\u001b[0m \u001b[0;34m=\u001b[0m \u001b[0mopen\u001b[0m\u001b[0;34m(\u001b[0m\u001b[0mos_fspath\u001b[0m\u001b[0;34m(\u001b[0m\u001b[0mfile\u001b[0m\u001b[0;34m)\u001b[0m\u001b[0;34m,\u001b[0m \u001b[0;34m\"rb\"\u001b[0m\u001b[0;34m)\u001b[0m\u001b[0;34m\u001b[0m\u001b[0;34m\u001b[0m\u001b[0m\n\u001b[0m\u001b[1;32m    429\u001b[0m         \u001b[0mown_fid\u001b[0m \u001b[0;34m=\u001b[0m \u001b[0;32mTrue\u001b[0m\u001b[0;34m\u001b[0m\u001b[0;34m\u001b[0m\u001b[0m\n\u001b[1;32m    430\u001b[0m \u001b[0;34m\u001b[0m\u001b[0m\n",
            "\u001b[0;31mFileNotFoundError\u001b[0m: [Errno 2] No such file or directory: '/content/drive/My Drive/FYP_MODEL/numpy_training_datasets/behavior/Behav_images.npy'"
          ]
        }
      ]
    },
    {
      "cell_type": "code",
      "metadata": {
        "id": "NQIb7ZTyAMq_",
        "colab_type": "code",
        "colab": {}
      },
      "source": [
        "from sklearn.model_selection import train_test_split\n",
        "# spliting testing dataset\n",
        "train_set, test_set, noise_train_set, noise_test_set, train_labels, test_labels =  train_test_split(train_set, noise_train_set, train_labels, test_size=0.1, random_state=4)\n",
        "train_set, validation_set, noise_train_set, noise_validation_set, train_labels, validation_labels =  train_test_split(train_set, noise_train_set, train_labels, test_size=0.1, random_state=4)\n"
      ],
      "execution_count": 0,
      "outputs": []
    },
    {
      "cell_type": "code",
      "metadata": {
        "id": "279p3J5DGepj",
        "colab_type": "code",
        "outputId": "78bc7829-6507-4e69-ec42-09c160bc93f6",
        "colab": {
          "base_uri": "https://localhost:8080/",
          "height": 1000
        }
      },
      "source": [
        "hist= evaluate(train_set, noise_train_set, validation_set, noise_validation_set)"
      ],
      "execution_count": 0,
      "outputs": [
        {
          "output_type": "stream",
          "text": [
            "Model initialized\n",
            "Model: \"sequential_1\"\n",
            "_________________________________________________________________\n",
            "Layer (type)                 Output Shape              Param #   \n",
            "=================================================================\n",
            "time_distributed_1 (TimeDist (None, 15, 64, 64, 128)   15616     \n",
            "_________________________________________________________________\n",
            "layer_normalization_1 (Layer (None, 15, 64, 64, 128)   256       \n",
            "_________________________________________________________________\n",
            "time_distributed_2 (TimeDist (None, 15, 32, 32, 128)   0         \n",
            "_________________________________________________________________\n",
            "time_distributed_3 (TimeDist (None, 15, 16, 16, 64)    204864    \n",
            "_________________________________________________________________\n",
            "layer_normalization_2 (Layer (None, 15, 16, 16, 64)    128       \n",
            "_________________________________________________________________\n",
            "time_distributed_4 (TimeDist (None, 15, 8, 8, 64)      0         \n",
            "_________________________________________________________________\n",
            "conv_lst_m2d_1 (ConvLSTM2D)  (None, 15, 8, 8, 32)      110720    \n",
            "_________________________________________________________________\n",
            "layer_normalization_3 (Layer (None, 15, 8, 8, 32)      64        \n",
            "_________________________________________________________________\n",
            "conv_lst_m2d_2 (ConvLSTM2D)  (None, 15, 8, 8, 16)      27712     \n",
            "_________________________________________________________________\n",
            "layer_normalization_4 (Layer (None, 15, 8, 8, 16)      32        \n",
            "_________________________________________________________________\n",
            "conv_lst_m2d_3 (ConvLSTM2D)  (None, 15, 8, 8, 32)      55424     \n",
            "_________________________________________________________________\n",
            "layer_normalization_5 (Layer (None, 15, 8, 8, 32)      64        \n",
            "_________________________________________________________________\n",
            "time_distributed_5 (TimeDist (None, 15, 16, 16, 64)    51264     \n",
            "_________________________________________________________________\n",
            "layer_normalization_6 (Layer (None, 15, 16, 16, 64)    128       \n",
            "_________________________________________________________________\n",
            "time_distributed_6 (TimeDist (None, 15, 32, 32, 64)    0         \n",
            "_________________________________________________________________\n",
            "time_distributed_7 (TimeDist (None, 15, 128, 128, 64)  495680    \n",
            "_________________________________________________________________\n",
            "layer_normalization_7 (Layer (None, 15, 128, 128, 64)  128       \n",
            "_________________________________________________________________\n",
            "time_distributed_8 (TimeDist (None, 15, 256, 256, 64)  0         \n",
            "_________________________________________________________________\n",
            "time_distributed_9 (TimeDist (None, 15, 256, 256, 1)   7745      \n",
            "=================================================================\n",
            "Total params: 969,825\n",
            "Trainable params: 969,825\n",
            "Non-trainable params: 0\n",
            "_________________________________________________________________\n",
            "None\n",
            "got model\n",
            "Train on 240 samples, validate on 27 samples\n",
            "Epoch 1/10\n",
            "240/240 [==============================] - 66s 274ms/step - loss: 0.0382 - val_loss: 0.0263\n",
            "Epoch 2/10\n",
            "240/240 [==============================] - 50s 209ms/step - loss: 0.0227 - val_loss: 0.0240\n",
            "Epoch 3/10\n",
            "240/240 [==============================] - 50s 209ms/step - loss: 0.0214 - val_loss: 0.0241\n",
            "Epoch 4/10\n",
            "240/240 [==============================] - 50s 209ms/step - loss: 0.0209 - val_loss: 0.0233\n",
            "Epoch 5/10\n",
            "240/240 [==============================] - 50s 209ms/step - loss: 0.0206 - val_loss: 0.0230\n",
            "Epoch 6/10\n",
            "240/240 [==============================] - 50s 209ms/step - loss: 0.0206 - val_loss: 0.0220\n",
            "Epoch 7/10\n",
            "240/240 [==============================] - 50s 209ms/step - loss: 0.0204 - val_loss: 0.0209\n",
            "Epoch 8/10\n",
            "240/240 [==============================] - 50s 209ms/step - loss: 0.0194 - val_loss: 0.0192\n",
            "Epoch 9/10\n",
            "240/240 [==============================] - 50s 208ms/step - loss: 0.0173 - val_loss: 0.0150\n",
            "Epoch 10/10\n",
            "240/240 [==============================] - 50s 208ms/step - loss: 0.0136 - val_loss: 0.0131\n"
          ],
          "name": "stdout"
        }
      ]
    },
    {
      "cell_type": "code",
      "metadata": {
        "id": "RbwdyYwpsxa2",
        "colab_type": "code",
        "outputId": "f838b56c-a6a9-4e8a-aa5f-349f8bbe695e",
        "colab": {
          "base_uri": "https://localhost:8080/",
          "height": 279
        }
      },
      "source": [
        "import matplotlib.pyplot as plt\n",
        "\n",
        "loss_values = hist.history['loss']\n",
        "loss_val = hist.history['val_loss']\n",
        "epochs = range(1, len(loss_values)+1)\n",
        "\n",
        "plt.plot(epochs, loss_values, label='Training Loss')\n",
        "plt.plot(epochs, loss_val, label='Validation Loss')\n",
        "plt.xlabel('Epochs')\n",
        "plt.ylabel('Loss')\n",
        "plt.legend()\n",
        "plt.show()"
      ],
      "execution_count": 0,
      "outputs": [
        {
          "output_type": "display_data",
          "data": {
            "image/png": "[encoded data removed]",
            "text/plain": [
              "<Figure size 432x288 with 1 Axes>"
            ]
          },
          "metadata": {
            "tags": [],
            "needs_background": "light"
          }
        }
      ]
    },
    {
      "cell_type": "code",
      "metadata": {
        "id": "u3gn5eHoXIFh",
        "colab_type": "code",
        "outputId": "2d2a30aa-1e5f-42e7-a3f0-d5465089b9e1",
        "colab": {
          "base_uri": "https://localhost:8080/",
          "height": 117
        }
      },
      "source": [
        "# modify model upto code layer\n",
        "model = get_model(False)\n",
        "modules = model.layers[:-9]\n",
        "new_model = Sequential(modules)\n",
        "\n",
        "# extract code features\n",
        "train_features = new_model.predict(noise_train_set, batch_size = 4)\n",
        "test_features = new_model.predict(noise_test_set, batch_size = 4)\n",
        "validation_features = new_model.predict(noise_validation_set, batch_size = 4)\n",
        "\n",
        "print(train_features.shape)\n",
        "print(test_features.shape)\n",
        "print(train_labels.shape)\n",
        "print(test_labels.shape)\n",
        "print(validation_features.shape)\n",
        "print(validation_labels.shape)"
      ],
      "execution_count": 0,
      "outputs": [
        {
          "output_type": "stream",
          "text": [
            "(240, 15, 8, 8, 16)\n",
            "(30, 15, 8, 8, 16)\n",
            "(240,)\n",
            "(30,)\n",
            "(27, 15, 8, 8, 16)\n",
            "(27,)\n"
          ],
          "name": "stdout"
        }
      ]
    },
    {
      "cell_type": "code",
      "metadata": {
        "id": "nvI4Rqm-YlUc",
        "colab_type": "code",
        "outputId": "0be9d1aa-d9ca-43ec-cdf0-7f3a0b9e1c53",
        "colab": {
          "base_uri": "https://localhost:8080/",
          "height": 51
        }
      },
      "source": [
        "train_features = train_features.reshape(378,10*8*8*16)\n",
        "test_features = test_features.reshape(47,10*8*8*16)\n",
        "validation_features = validation_features.reshape(43,10*8*8*16)\n",
        "\n",
        "\n",
        "print(train_features.shape)\n",
        "print(test_features.shape)\n",
        "\n",
        "np.save('/content/drive/My Drive/FYP_MODEL/numpy_training_datasets/Behav/train_features.npy', train_features)\n",
        "np.save('/content/drive/My Drive/FYP_MODEL/numpy_training_datasets/Behav/test_features.npy', test_features)\n",
        "np.save('/content/drive/My Drive/FYP_MODEL/numpy_training_datasets/Behav/validation_features.npy', validation_features)\n",
        "\n",
        "np.save('/content/drive/My Drive/FYP_MODEL/numpy_training_datasets/Behav/train_labels.npy', train_labels)\n",
        "np.save('/content/drive/My Drive/FYP_MODEL/numpy_training_datasets/Behav/test_labels.npy', test_labels)\n",
        "np.save('/content/drive/My Drive/FYP_MODEL/numpy_training_datasets/Behav/validation_labels.npy', validation_labels)"
      ],
      "execution_count": 0,
      "outputs": [
        {
          "output_type": "stream",
          "text": [
            "(378, 10240)\n",
            "(47, 10240)\n"
          ],
          "name": "stdout"
        }
      ]
    }
  ]
}